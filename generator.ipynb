{
 "cells": [
  {
   "cell_type": "code",
   "execution_count": 4,
   "id": "ae061b4e",
   "metadata": {
    "ExecuteTime": {
     "end_time": "2023-11-06T09:38:44.881576Z",
     "start_time": "2023-11-06T09:38:44.872744Z"
    }
   },
   "outputs": [],
   "source": [
    "from PIL import Image\n",
    "import pytesseract\n",
    "import fitz\n",
    "import os\n",
    "\n",
    "pdf_files = os.listdir('./pdfs')\n"
   ]
  },
  {
   "cell_type": "code",
   "execution_count": null,
   "id": "222830aa",
   "metadata": {},
   "outputs": [],
   "source": [
    "doc = fitz.open(pdf_file)\n",
    "pages = doc.page_count\n",
    "\n",
    "for page_num in range(pages):\n",
    "    page = doc.load_page(page_num)\n",
    "    image = page.get_pixmap()\n",
    "    image.save(f'./pages/page_{page_num + 1}.png', 'png')\n",
    "    image_path = f'./pages/page_{page_num + 1}.png'\n",
    "    text = pytesseract.image_to_string(Image.open(image_path))\n",
    "    print(text)\n",
    "    \n",
    "image_path = 'page_1.png'  # Adjust the path to the image you want to process\n",
    "text = pytesseract.image_to_string(Image.open(image_path))\n",
    "\n",
    "print(text)"
   ]
  },
  {
   "cell_type": "code",
   "execution_count": 2,
   "id": "b933e6bc",
   "metadata": {
    "ExecuteTime": {
     "end_time": "2023-11-06T09:37:05.305339Z",
     "start_time": "2023-11-06T09:37:05.296847Z"
    }
   },
   "outputs": [
    {
     "name": "stdout",
     "output_type": "stream",
     "text": [
      "14343\n"
     ]
    }
   ],
   "source": []
  },
  {
   "cell_type": "code",
   "execution_count": null,
   "id": "85e6560a",
   "metadata": {},
   "outputs": [],
   "source": []
  }
 ],
 "metadata": {
  "kernelspec": {
   "display_name": "Python 3 (ipykernel)",
   "language": "python",
   "name": "python3"
  },
  "language_info": {
   "codemirror_mode": {
    "name": "ipython",
    "version": 3
   },
   "file_extension": ".py",
   "mimetype": "text/x-python",
   "name": "python",
   "nbconvert_exporter": "python",
   "pygments_lexer": "ipython3",
   "version": "3.9.12"
  }
 },
 "nbformat": 4,
 "nbformat_minor": 5
}
