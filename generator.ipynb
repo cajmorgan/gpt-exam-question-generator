{
 "cells": [
  {
   "cell_type": "code",
   "execution_count": 98,
   "id": "d337687c",
   "metadata": {
    "ExecuteTime": {
     "end_time": "2023-11-06T10:35:39.136219Z",
     "start_time": "2023-11-06T10:35:39.131515Z"
    }
   },
   "outputs": [],
   "source": [
    "from PIL import Image\n",
    "import pytesseract\n",
    "import fitz\n",
    "import os\n",
    "import re\n"
   ]
  },
  {
   "cell_type": "code",
   "execution_count": 99,
   "id": "b7ab9896",
   "metadata": {
    "ExecuteTime": {
     "end_time": "2023-11-06T10:35:40.194190Z",
     "start_time": "2023-11-06T10:35:40.183555Z"
    }
   },
   "outputs": [
    {
     "data": {
      "text/plain": [
       "['Lecture01.pdf',\n",
       " 'Lecture02.pdf',\n",
       " 'Lecture03.pdf',\n",
       " 'Lecture04.pdf',\n",
       " 'Lecture05.pdf',\n",
       " 'Lecture06.pdf',\n",
       " 'Lecture07.pdf']"
      ]
     },
     "execution_count": 99,
     "metadata": {},
     "output_type": "execute_result"
    }
   ],
   "source": [
    "# Remove non-pdf files\n",
    "pdf_files = os.listdir('./pdfs')\n",
    "for i in range(len(pdf_files)-1, -1, -1):\n",
    "    if not re.search(\".pdf\",pdf_files[i]):\n",
    "        del pdf_files[i]\n",
    "        \n",
    "pdf_files.sort()\n",
    "pdf_files"
   ]
  },
  {
   "cell_type": "code",
   "execution_count": 101,
   "id": "afc98fbd",
   "metadata": {
    "ExecuteTime": {
     "end_time": "2023-11-06T10:36:06.695624Z",
     "start_time": "2023-11-06T10:35:43.090151Z"
    }
   },
   "outputs": [],
   "source": [
    "gpt_limit = 14500\n",
    "prompt_parts = []\n",
    "\n",
    "for file in pdf_files:\n",
    "    doc = fitz.open('./pdfs/'+file)\n",
    "    pages = doc.page_count\n",
    "    \n",
    "    current_part = \"\"\n",
    "    \n",
    "    \n",
    "    for page_num in range(pages):\n",
    "        page = doc.load_page(page_num)\n",
    "        image = page.get_pixmap()\n",
    "        image.save(f'page_{page_num + 1}.png', 'png')\n",
    "        image_path = f'page_{page_num + 1}.png'\n",
    "        text = pytesseract.image_to_string(Image.open(image_path))\n",
    "        os.remove(image_path)\n",
    "        \n",
    "        current_part += text\n",
    "        \n",
    "        while len(current_part) >= gpt_limit:\n",
    "            sliced = current_part[:gpt_limit]\n",
    "            prompt_parts.append(sliced)\n",
    "            current_part = current_part[gpt_limit:]\n",
    "    \n",
    "    prompt_parts.append(current_part)\n",
    "    \n",
    "    break"
   ]
  },
  {
   "cell_type": "code",
   "execution_count": 107,
   "id": "9e8f22aa",
   "metadata": {
    "ExecuteTime": {
     "end_time": "2023-11-06T10:38:06.902682Z",
     "start_time": "2023-11-06T10:38:06.895145Z"
    }
   },
   "outputs": [],
   "source": [
    "init_prompt = f\"\"\"Hey! Can you make an exam with written questions out of these powerpoints? \n",
    "It's red through OCR so the data might look a little bit strange here and there, but focus on what seems important and relevant.\n",
    "\n",
    "The total length of the content that I want to send you is too large to send in only one piece.\n",
    "        \n",
    "For sending you that content, I will follow this rule:\n",
    "    \n",
    "[START PART 1/{len(prompt_parts)}]\n",
    "this is the content of the part 1 out of {len(prompt_parts)} in total\n",
    "[END PART 1/{len(prompt_parts)}]\n",
    "        \n",
    "Then you just answer: \"Received part 1/{len(prompt_parts)}\"\n",
    "        \n",
    "And when I tell you \"ALL PARTS SENT\", then you can continue processing the data and answering my requests.\n",
    "\"\"\"\n",
    "    \n",
    "end_prompt = \"Create exam questions based on the information given\""
   ]
  },
  {
   "cell_type": "code",
   "execution_count": 103,
   "id": "caf6b0cc",
   "metadata": {
    "ExecuteTime": {
     "end_time": "2023-11-06T10:36:06.702231Z",
     "start_time": "2023-11-06T10:36:06.700355Z"
    },
    "scrolled": false
   },
   "outputs": [],
   "source": [
    "for i, part in enumerate(prompt_parts):\n",
    "    prompt_parts[i] = f\"[START PART {i+1}/{len(prompt_parts)}]\\n\" + part + f\"\\n[END PART {i+1}/{len(prompt_parts)}]\""
   ]
  },
  {
   "cell_type": "code",
   "execution_count": 108,
   "id": "92663ffa",
   "metadata": {
    "ExecuteTime": {
     "end_time": "2023-11-06T10:38:08.192185Z",
     "start_time": "2023-11-06T10:38:08.177904Z"
    }
   },
   "outputs": [],
   "source": [
    "'./prompts/'\n",
    "\n",
    "with open(\"./prompts/0.txt\", \"w\") as file:\n",
    "    file.write(init_prompt)\n",
    "\n",
    "\n",
    "for i, prompt in enumerate(prompt_parts):\n",
    "    with open(f\"./prompts/{i+1}.txt\", \"w\") as file:\n",
    "        file.write(prompt)\n",
    "\n",
    "with open(f\"./prompts/{len(prompt_parts)+1}.txt\", \"w\") as file:\n",
    "    file.write(end_prompt)\n",
    "\n"
   ]
  },
  {
   "cell_type": "code",
   "execution_count": null,
   "id": "66f871b0",
   "metadata": {},
   "outputs": [],
   "source": []
  }
 ],
 "metadata": {
  "kernelspec": {
   "display_name": "Python 3 (ipykernel)",
   "language": "python",
   "name": "python3"
  },
  "language_info": {
   "codemirror_mode": {
    "name": "ipython",
    "version": 3
   },
   "file_extension": ".py",
   "mimetype": "text/x-python",
   "name": "python",
   "nbconvert_exporter": "python",
   "pygments_lexer": "ipython3",
   "version": "3.9.12"
  }
 },
 "nbformat": 4,
 "nbformat_minor": 5
}
